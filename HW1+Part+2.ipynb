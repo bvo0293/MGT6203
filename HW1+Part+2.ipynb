{
 "cells": [
  {
   "cell_type": "markdown",
   "metadata": {
    "deletable": false,
    "editable": false,
    "nbgrader": {
     "grade": false,
     "locked": true,
     "solution": false
    }
   },
   "source": [
    "# HW1 Part 2 - MGT 6203"
   ]
  },
  {
   "cell_type": "markdown",
   "metadata": {
    "deletable": false,
    "editable": false,
    "nbgrader": {
     "grade": false,
     "locked": true,
     "solution": false
    }
   },
   "source": [
    "## Instructions:\n",
    "\n",
    "**For the rest of the semester, we will be using Vocareum to work on and submit your homework assignments. Vocareum is a cloud platform for programming classes. It provides an infrastructure that allows us to move the educational aspects like assignments, exams, quizzes, etc, to the cloud. The merit of this platform is that all of you will be working in the same coding environment. This way we can eliminate many issues we might encounter when working on an individual basis, such as those with library installations and RStudio malfunctions. Some you you might be new to this platform, here we provided a few things to keep in mind to get you started, please try to read through them.**\n",
    "\n",
    "**Things to keep in mind:**\n",
    "\n",
    "\n",
    "<ol>\n",
    "<li>Even though we are moving from your local envrionment to the cloud, **our expectations from your homework will stay the same**. Same goes for the rubrics.</li>\n",
    "\n",
    "<li>Vocareum has its own cloud based file system, the data files you will be using for the assignments will be stored in the cloud with path **\"../resource/asnlib/publicdata/FILENAME.csv\"**. You will be able to import them with the same method as you do in RStudio, simply substitute the path name to the one specified in the instructions. You won't be able to modify these data files.</li>\n",
    "\n",
    "<li>You will be able to find the data files on Canvas/EdX if you would like to explore them offline.</li>\n",
    "\n",
    "<li>**For coding questions, you will be graded on the R code as well as the output** in your submission.</li>\n",
    "\n",
    "<li>**For interpretations or short response questions, please type the answers in the notebook's markdown cells**. To change a code cell to a markdown cell, click on the cell, and in the dropdown menu above, switch the type of the cell block from \"code\" to \"markdown\". **Adding print statements to code cells for short response/interpretation questions is also fine, as long as we can clearly see the output of your response**.</li>\n",
    "\n",
    "<li>You don't need to, but if you would like to learn more about how to format your markdown cells, visit the following site: https://www.earthdatascience.org/courses/intro-to-earth-data-science/file-formats/use-text-files/format-text-with-markdown-jupyter-notebook/. Jupyter notebook also support LaTeX.</li>\n",
    "\n",
    "<li>**Feel free to add as many additional cells as you need**. But please keep your solution to a question directly under that question to aviod confusions.</li>\n",
    "\n",
    "<li>You may delete the #SOLUTION BEGINS/ENDS HERE comments from the cell blocks, they are just pointers that indicates where to put you solutions.</li>\n",
    "\n",
    "<li>When you have finished the assignment, remember to rerun your notebook to check if it runs correctly. You can do so by going to **Kernel-> Restart & Run All**. You may lose points if your solutions does not run successfully.</li>\n",
    "\n",
    "<li>**Click the \"Submit\" button on the top right corner to turn in your assignment**. Your assignment will enter the next phase for peer review.</li>\n",
    "\n",
    "<li>You will be able to come back and resubmit your assignment as long as it is before the start of the peer review period.</li>\n",
    "\n",
    "</ol>\n",
    "\n"
   ]
  },
  {
   "cell_type": "markdown",
   "metadata": {
    "deletable": false,
    "editable": false,
    "nbgrader": {
     "grade": false,
     "locked": true,
     "solution": false
    }
   },
   "source": [
    "# About Package Installation:\n",
    "\n",
    "Most of the packages (if not all) that you will need to complete this assignment are already installed in this environment. An easy way to check this is to run the command: library(PackageName). If this command runs successfully then the package was already installed and has been successfully attached to the code. If the command gave an error saying the Package was not found then follow the steps below to successfully install the package and attach it to the code: \n",
    "\n",
    "Use *installed.packages()* command to return a table of the packages that are preinstalled in the environment.\n",
    "\n",
    "To attach a preinstalled library in Vocareum, simply use *library(PackageName)*\n",
    "\n",
    "**To install a package that does not come with the provided environment, please use the following syntax:**\n",
    "\n",
    "*install.packages(\"PackageName\", lib=\"../work/\")*\n",
    "\n",
    "**To attach a library you just installed, use the following syntax:**\n",
    "\n",
    "*library(PackageName, lib.loc=\"../work/\")*\n",
    "\n",
    "Make sure the file location is the same as the above code snippets *(\"../work/\")*"
   ]
  },
  {
   "cell_type": "markdown",
   "metadata": {
    "deletable": false,
    "editable": false,
    "nbgrader": {
     "grade": false,
     "locked": true,
     "solution": false
    }
   },
   "source": [
    "## Q1. Use the *\"airbnb_data.csv\"* provided and answer the following questions on Linear Regression:\n",
    "\n",
    "**Instruction: The file \"airbnb_data.csv\" can be accessed at the path: (\"../resource/asnlib/publicdata/airbnb_data.csv\")**"
   ]
  },
  {
   "cell_type": "markdown",
   "metadata": {
    "deletable": false,
    "editable": false,
    "nbgrader": {
     "grade": false,
     "locked": true,
     "solution": false
    }
   },
   "source": [
    "a)  Remove ‘id’columns (‘room_id’, ‘survey_id’, ‘host_id’) and ‘city’ from your dataset, and fit a multiple linear regression model using price as the response variable and all others as predictor variables.  (Note: Do not fit a model using id columns and city as predictors). Which variables are statistically significant at a 95% confidence interval.    (6 points)"
   ]
  },
  {
   "cell_type": "code",
   "execution_count": 1,
   "metadata": {},
   "outputs": [
    {
     "name": "stderr",
     "output_type": "stream",
     "text": [
      "── \u001b[1mAttaching packages\u001b[22m ─────────────────────────────────────── tidyverse 1.2.1 ──\n",
      "\u001b[32m✔\u001b[39m \u001b[34mtibble \u001b[39m 2.1.3     \u001b[32m✔\u001b[39m \u001b[34mpurrr  \u001b[39m 0.2.5\n",
      "\u001b[32m✔\u001b[39m \u001b[34mtidyr  \u001b[39m 1.0.0     \u001b[32m✔\u001b[39m \u001b[34mdplyr  \u001b[39m 0.8.3\n",
      "\u001b[32m✔\u001b[39m \u001b[34mreadr  \u001b[39m 1.1.1     \u001b[32m✔\u001b[39m \u001b[34mstringr\u001b[39m 1.3.1\n",
      "\u001b[32m✔\u001b[39m \u001b[34mtibble \u001b[39m 2.1.3     \u001b[32m✔\u001b[39m \u001b[34mforcats\u001b[39m 0.3.0\n",
      "── \u001b[1mConflicts\u001b[22m ────────────────────────────────────────── tidyverse_conflicts() ──\n",
      "\u001b[31m✖\u001b[39m \u001b[34mdplyr\u001b[39m::\u001b[32mfilter()\u001b[39m masks \u001b[34mstats\u001b[39m::filter()\n",
      "\u001b[31m✖\u001b[39m \u001b[34mdplyr\u001b[39m::\u001b[32mlag()\u001b[39m    masks \u001b[34mstats\u001b[39m::lag()\n"
     ]
    },
    {
     "data": {
      "text/plain": [
       "\n",
       "Call:\n",
       "lm(formula = price ~ ., data = airbnb_data)\n",
       "\n",
       "Residuals:\n",
       "   Min     1Q Median     3Q    Max \n",
       "-367.8  -49.2    3.2   38.6 4032.7 \n",
       "\n",
       "Coefficients:\n",
       "                           Estimate Std. Error t value Pr(>|t|)    \n",
       "(Intercept)              -100.02951   62.59071  -1.598  0.11038    \n",
       "room_typePrivate room      75.73664   60.60664   1.250  0.21178    \n",
       "room_typeEntire home/apt   76.66780   59.90939   1.280  0.20099    \n",
       "reviews                     0.01090    0.09982   0.109  0.91310    \n",
       "overall_satisfaction      -10.48160    3.47320  -3.018  0.00262 ** \n",
       "accommodates               23.00721    5.23952   4.391 1.27e-05 ***\n",
       "bedrooms                   85.64533   11.45983   7.474 1.95e-13 ***\n",
       "---\n",
       "Signif. codes:  0 ‘***’ 0.001 ‘**’ 0.01 ‘*’ 0.05 ‘.’ 0.1 ‘ ’ 1\n",
       "\n",
       "Residual standard error: 167.1 on 847 degrees of freedom\n",
       "Multiple R-squared:  0.3228,\tAdjusted R-squared:  0.318 \n",
       "F-statistic:  67.3 on 6 and 847 DF,  p-value: < 2.2e-16\n"
      ]
     },
     "metadata": {},
     "output_type": "display_data"
    }
   ],
   "source": [
    "# SOLUTION BEGINS HERE\n",
    "library(ggplot2) \n",
    "library(tidyverse) \n",
    "\n",
    "# read the csv data and initialize column types\n",
    "airbnb_data = read_csv(\"../resource/asnlib/publicdata/airbnb_data.csv\", col_types = list(\n",
    "    room_type = col_factor(c('Shared room','Private room','Entire home/apt')),\n",
    "    reviews = col_integer(),\n",
    "    overall_satisfaction = col_double(),\n",
    "    accommodates = col_integer(),\n",
    "    bedrooms = col_integer(),\n",
    "    price = col_integer()))\n",
    "\n",
    "# remove 'id' columns and 'city' column\n",
    "keep = c(4,6,7,8,9,10)\n",
    "airbnb_data = airbnb_data[keep]\n",
    "attach(airbnb_data)\n",
    "\n",
    "# fir a multiple linear regression model using the dataset above\n",
    "RS.lm <- lm(price ~., data = airbnb_data)\n",
    "\n",
    "# summary info of the model\n",
    "summary(RS.lm)\n",
    "\n",
    "# answer in markdown below\n",
    "# SOLUTION ENDS HERE"
   ]
  },
  {
   "cell_type": "code",
   "execution_count": 2,
   "metadata": {},
   "outputs": [
    {
     "data": {
      "text/html": [
       "<table>\n",
       "<caption>A matrix: 3 × 2 of type dbl</caption>\n",
       "<thead>\n",
       "\t<tr><th></th><th scope=col>Private room</th><th scope=col>Entire home/apt</th></tr>\n",
       "</thead>\n",
       "<tbody>\n",
       "\t<tr><th scope=row>Shared room</th><td>0</td><td>0</td></tr>\n",
       "\t<tr><th scope=row>Private room</th><td>1</td><td>0</td></tr>\n",
       "\t<tr><th scope=row>Entire home/apt</th><td>0</td><td>1</td></tr>\n",
       "</tbody>\n",
       "</table>\n"
      ],
      "text/latex": [
       "A matrix: 3 × 2 of type dbl\n",
       "\\begin{tabular}{r|ll}\n",
       "  & Private room & Entire home/apt\\\\\n",
       "\\hline\n",
       "\tShared room & 0 & 0\\\\\n",
       "\tPrivate room & 1 & 0\\\\\n",
       "\tEntire home/apt & 0 & 1\\\\\n",
       "\\end{tabular}\n"
      ],
      "text/markdown": [
       "\n",
       "A matrix: 3 × 2 of type dbl\n",
       "\n",
       "| <!--/--> | Private room | Entire home/apt |\n",
       "|---|---|---|\n",
       "| Shared room | 0 | 0 |\n",
       "| Private room | 1 | 0 |\n",
       "| Entire home/apt | 0 | 1 |\n",
       "\n"
      ],
      "text/plain": [
       "                Private room Entire home/apt\n",
       "Shared room     0            0              \n",
       "Private room    1            0              \n",
       "Entire home/apt 0            1              "
      ]
     },
     "metadata": {},
     "output_type": "display_data"
    }
   ],
   "source": [
    "contrasts(room_type)"
   ]
  },
  {
   "cell_type": "markdown",
   "metadata": {
    "collapsed": true
   },
   "source": [
    "> **ANSWER TO QUESTION 1a:**\n",
    "\n",
    "> Overall_satisfaction, accommodates, and bedrooms are statistically significant variables at a 95% confidence interval as their p(s) are < 0.05"
   ]
  },
  {
   "cell_type": "code",
   "execution_count": 3,
   "metadata": {},
   "outputs": [
    {
     "data": {
      "text/html": [
       "<table>\n",
       "<caption>A tibble: 6 × 6</caption>\n",
       "<thead>\n",
       "\t<tr><th scope=col>room_type</th><th scope=col>reviews</th><th scope=col>overall_satisfaction</th><th scope=col>accommodates</th><th scope=col>bedrooms</th><th scope=col>price</th></tr>\n",
       "\t<tr><th scope=col>&lt;fct&gt;</th><th scope=col>&lt;int&gt;</th><th scope=col>&lt;dbl&gt;</th><th scope=col>&lt;int&gt;</th><th scope=col>&lt;int&gt;</th><th scope=col>&lt;int&gt;</th></tr>\n",
       "</thead>\n",
       "<tbody>\n",
       "\t<tr><td>Shared room</td><td>  0</td><td>0.0</td><td>4</td><td>1</td><td>67</td></tr>\n",
       "\t<tr><td>Shared room</td><td> 32</td><td>5.0</td><td>4</td><td>1</td><td>76</td></tr>\n",
       "\t<tr><td>Shared room</td><td>  4</td><td>4.5</td><td>2</td><td>1</td><td>45</td></tr>\n",
       "\t<tr><td>Shared room</td><td> 24</td><td>4.5</td><td>6</td><td>1</td><td>26</td></tr>\n",
       "\t<tr><td>Shared room</td><td>152</td><td>4.5</td><td>6</td><td>1</td><td>26</td></tr>\n",
       "\t<tr><td>Shared room</td><td> 20</td><td>4.5</td><td>4</td><td>1</td><td>26</td></tr>\n",
       "</tbody>\n",
       "</table>\n"
      ],
      "text/latex": [
       "A tibble: 6 × 6\n",
       "\\begin{tabular}{r|llllll}\n",
       " room\\_type & reviews & overall\\_satisfaction & accommodates & bedrooms & price\\\\\n",
       " <fct> & <int> & <dbl> & <int> & <int> & <int>\\\\\n",
       "\\hline\n",
       "\t Shared room &   0 & 0.0 & 4 & 1 & 67\\\\\n",
       "\t Shared room &  32 & 5.0 & 4 & 1 & 76\\\\\n",
       "\t Shared room &   4 & 4.5 & 2 & 1 & 45\\\\\n",
       "\t Shared room &  24 & 4.5 & 6 & 1 & 26\\\\\n",
       "\t Shared room & 152 & 4.5 & 6 & 1 & 26\\\\\n",
       "\t Shared room &  20 & 4.5 & 4 & 1 & 26\\\\\n",
       "\\end{tabular}\n"
      ],
      "text/markdown": [
       "\n",
       "A tibble: 6 × 6\n",
       "\n",
       "| room_type &lt;fct&gt; | reviews &lt;int&gt; | overall_satisfaction &lt;dbl&gt; | accommodates &lt;int&gt; | bedrooms &lt;int&gt; | price &lt;int&gt; |\n",
       "|---|---|---|---|---|---|\n",
       "| Shared room |   0 | 0.0 | 4 | 1 | 67 |\n",
       "| Shared room |  32 | 5.0 | 4 | 1 | 76 |\n",
       "| Shared room |   4 | 4.5 | 2 | 1 | 45 |\n",
       "| Shared room |  24 | 4.5 | 6 | 1 | 26 |\n",
       "| Shared room | 152 | 4.5 | 6 | 1 | 26 |\n",
       "| Shared room |  20 | 4.5 | 4 | 1 | 26 |\n",
       "\n"
      ],
      "text/plain": [
       "  room_type   reviews overall_satisfaction accommodates bedrooms price\n",
       "1 Shared room   0     0.0                  4            1        67   \n",
       "2 Shared room  32     5.0                  4            1        76   \n",
       "3 Shared room   4     4.5                  2            1        45   \n",
       "4 Shared room  24     4.5                  6            1        26   \n",
       "5 Shared room 152     4.5                  6            1        26   \n",
       "6 Shared room  20     4.5                  4            1        26   "
      ]
     },
     "metadata": {},
     "output_type": "display_data"
    }
   ],
   "source": [
    "head(airbnb_data)"
   ]
  },
  {
   "cell_type": "markdown",
   "metadata": {
    "deletable": false,
    "editable": false,
    "nbgrader": {
     "grade": false,
     "locked": true,
     "solution": false
    }
   },
   "source": [
    "b) Interpret the coefficients for predictors: 'room_type', 'bedrooms'. (3 points)\n",
    "\n",
    "**Note:** In the event that a coefficient is not significant in your analysis, please interpret both coefficients as if they were significant. "
   ]
  },
  {
   "cell_type": "code",
   "execution_count": 4,
   "metadata": {
    "collapsed": true
   },
   "outputs": [],
   "source": [
    "# SOLUTION BEGINS HERE\n",
    "# Answer in the Markdown below\n",
    "# SOLUTION ENDS HERE"
   ]
  },
  {
   "cell_type": "markdown",
   "metadata": {},
   "source": [
    "> **ANSWER TO QUESTION 1b:**\n",
    "\n",
    "> As we have:\n",
    "> Price = b<sub>0</sub> + b<sub>1</sub>Entire home/apt + b<sub>2</sub>Private room + ... + b<sub>6</sub>bedrooms \n",
    "\n",
    "> The baseline is **Shared room** as indicated from running function constracts() above:\n",
    "\n",
    "> For every one unit changed in **Entire home/apt** room type, the price is expected to increase 76.66780 keeping all esle constant.\n",
    "\n",
    "> For every one unit changed in **Private room** room type, the price is expected to increase 75.73664 keeping all esle constant.\n",
    "\n",
    "> For every one unit changed in **bedrooms**, the price is expected to increase 85.64533 keeping all esle constant."
   ]
  },
  {
   "cell_type": "markdown",
   "metadata": {
    "deletable": false,
    "editable": false,
    "nbgrader": {
     "grade": false,
     "locked": true,
     "solution": false
    }
   },
   "source": [
    "c) Predict the price (nearest dollar) for a listing with the following factors: 'bedrooms' = 1, 'accommodates' = 2, 'reviews' = 70, 'overall_satisfaction' = 4, and 'room_type' = 'Private room'. (6 points)\n",
    "\n",
    "\n",
    "\n",
    "|bedrooms|accomodates|reviews|overall_satisfaction|room_type|\n",
    "|------|------|------|-------|------|------|\n",
    "|1|2|70|4|Private room|\n"
   ]
  },
  {
   "cell_type": "code",
   "execution_count": 5,
   "metadata": {},
   "outputs": [
    {
     "data": {
      "text/html": [
       "<table>\n",
       "<caption>A matrix: 1 × 3 of type dbl</caption>\n",
       "<thead>\n",
       "\t<tr><th scope=col>fit</th><th scope=col>lwr</th><th scope=col>upr</th></tr>\n",
       "</thead>\n",
       "<tbody>\n",
       "\t<tr><td>66.20316</td><td>-262.3605</td><td>394.7669</td></tr>\n",
       "</tbody>\n",
       "</table>\n"
      ],
      "text/latex": [
       "A matrix: 1 × 3 of type dbl\n",
       "\\begin{tabular}{r|lll}\n",
       " fit & lwr & upr\\\\\n",
       "\\hline\n",
       "\t 66.20316 & -262.3605 & 394.7669\\\\\n",
       "\\end{tabular}\n"
      ],
      "text/markdown": [
       "\n",
       "A matrix: 1 × 3 of type dbl\n",
       "\n",
       "| fit | lwr | upr |\n",
       "|---|---|---|\n",
       "| 66.20316 | -262.3605 | 394.7669 |\n",
       "\n"
      ],
      "text/plain": [
       "  fit      lwr       upr     \n",
       "1 66.20316 -262.3605 394.7669"
      ]
     },
     "metadata": {},
     "output_type": "display_data"
    }
   ],
   "source": [
    "# SOLUTION BEGINS HERE\n",
    "new_data <- data.frame(bedrooms = 1, accommodates = 2, reviews = 70, overall_satisfaction = 4, room_type = \"Private room\")\n",
    "predict(RS.lm, new_data, interval=\"predict\")\n",
    "# answer to question 1c in the markdown below\n",
    "# SOLUTION ENDS HERE"
   ]
  },
  {
   "cell_type": "markdown",
   "metadata": {},
   "source": [
    "> **ANSWER TO QUESTION 1c:**\n",
    "> From the calculation above, the predicted **Price** is 66.20\n"
   ]
  },
  {
   "cell_type": "markdown",
   "metadata": {
    "deletable": false,
    "editable": false,
    "nbgrader": {
     "grade": false,
     "locked": true,
     "solution": false
    }
   },
   "source": [
    "d) Identify outliers using Cook's distance approach. Remove points having Cook's distance > 1. Rerun the model after the removal of these points and print the summary. (6 points)\n",
    "\n",
    "**Note:** Please build the same model structure as used on parts 1a-1b, but using the new dataset with outliers removed."
   ]
  },
  {
   "cell_type": "code",
   "execution_count": 6,
   "metadata": {},
   "outputs": [
    {
     "data": {
      "text/html": [
       "<dl class=dl-horizontal>\n",
       "\t<dt>94</dt>\n",
       "\t\t<dd>1.11782591289961</dd>\n",
       "\t<dt>95</dt>\n",
       "\t\t<dd>6.84610809753427</dd>\n",
       "</dl>\n"
      ],
      "text/latex": [
       "\\begin{description*}\n",
       "\\item[94] 1.11782591289961\n",
       "\\item[95] 6.84610809753427\n",
       "\\end{description*}\n"
      ],
      "text/markdown": [
       "94\n",
       ":   1.1178259128996195\n",
       ":   6.84610809753427\n",
       "\n"
      ],
      "text/plain": [
       "      94       95 \n",
       "1.117826 6.846108 "
      ]
     },
     "metadata": {},
     "output_type": "display_data"
    },
    {
     "data": {
      "text/plain": [
       "\n",
       "Call:\n",
       "lm(formula = price ~ ., data = airbnb_without_outliers)\n",
       "\n",
       "Residuals:\n",
       "    Min      1Q  Median      3Q     Max \n",
       "-190.95  -32.43   -7.09   20.35  876.26 \n",
       "\n",
       "Coefficients:\n",
       "                          Estimate Std. Error t value Pr(>|t|)    \n",
       "(Intercept)              -16.68641   25.40747  -0.657 0.511519    \n",
       "room_typePrivate room     59.41750   24.56885   2.418 0.015799 *  \n",
       "room_typeEntire home/apt  91.69951   24.28958   3.775 0.000171 ***\n",
       "reviews                   -0.05915    0.04047  -1.462 0.144202    \n",
       "overall_satisfaction      -6.78957    1.41118  -4.811 1.78e-06 ***\n",
       "accommodates              11.90698    2.14267   5.557 3.68e-08 ***\n",
       "bedrooms                  35.93177    4.87968   7.364 4.25e-13 ***\n",
       "---\n",
       "Signif. codes:  0 ‘***’ 0.001 ‘**’ 0.01 ‘*’ 0.05 ‘.’ 0.1 ‘ ’ 1\n",
       "\n",
       "Residual standard error: 67.73 on 845 degrees of freedom\n",
       "Multiple R-squared:  0.4249,\tAdjusted R-squared:  0.4208 \n",
       "F-statistic:   104 on 6 and 845 DF,  p-value: < 2.2e-16\n"
      ]
     },
     "metadata": {},
     "output_type": "display_data"
    }
   ],
   "source": [
    "# SOLUTION BEGINS HERE\n",
    "cooksD <- cooks.distance(RS.lm)\n",
    "influential <- cooksD[(cooksD > 1)]\n",
    "influential\n",
    "airbnb_without_outliers <- airbnb_data[c(-94,-95),]\n",
    "RS2.lm <- lm(price ~., data = airbnb_without_outliers)\n",
    "summary(RS2.lm)\n",
    "# SOLUTION ENDS HERE"
   ]
  },
  {
   "cell_type": "markdown",
   "metadata": {
    "deletable": false,
    "editable": false,
    "nbgrader": {
     "grade": false,
     "locked": true,
     "solution": false
    }
   },
   "source": [
    "e) Using the original dataset (not the one created in 1D) create another multiple linear regression model by removing the 'id' columns ('room_id', survery_id', 'host_id'), 'city', and 'room_type' from the Airbnb_data.csv dataset, run the vif function and calculate the vif value of the variable 'bedrooms' (3 points)"
   ]
  },
  {
   "cell_type": "code",
   "execution_count": 7,
   "metadata": {},
   "outputs": [
    {
     "name": "stderr",
     "output_type": "stream",
     "text": [
      "Loading required package: carData\n",
      "\n",
      "Attaching package: ‘car’\n",
      "\n",
      "The following object is masked from ‘package:dplyr’:\n",
      "\n",
      "    recode\n",
      "\n",
      "The following object is masked from ‘package:purrr’:\n",
      "\n",
      "    some\n",
      "\n"
     ]
    },
    {
     "data": {
      "text/html": [
       "<dl class=dl-horizontal>\n",
       "\t<dt>reviews</dt>\n",
       "\t\t<dd>1.13606280120463</dd>\n",
       "\t<dt>overall_satisfaction</dt>\n",
       "\t\t<dd>1.12963637866164</dd>\n",
       "\t<dt>accommodates</dt>\n",
       "\t\t<dd>2.76161339756311</dd>\n",
       "\t<dt>bedrooms</dt>\n",
       "\t\t<dd>2.7597457287341</dd>\n",
       "</dl>\n"
      ],
      "text/latex": [
       "\\begin{description*}\n",
       "\\item[reviews] 1.13606280120463\n",
       "\\item[overall\\textbackslash{}\\_satisfaction] 1.12963637866164\n",
       "\\item[accommodates] 2.76161339756311\n",
       "\\item[bedrooms] 2.7597457287341\n",
       "\\end{description*}\n"
      ],
      "text/markdown": [
       "reviews\n",
       ":   1.13606280120463overall_satisfaction\n",
       ":   1.12963637866164accommodates\n",
       ":   2.76161339756311bedrooms\n",
       ":   2.7597457287341\n",
       "\n"
      ],
      "text/plain": [
       "             reviews overall_satisfaction         accommodates \n",
       "            1.136063             1.129636             2.761613 \n",
       "            bedrooms \n",
       "            2.759746 "
      ]
     },
     "metadata": {},
     "output_type": "display_data"
    }
   ],
   "source": [
    "# SOLUTION BEGINS HERE\n",
    "library(car)\n",
    "\n",
    "# remove room_type from the dataset\n",
    "new_airbnb_data = airbnb_data[-1]\n",
    "\n",
    "# running the multiple linear regression model\n",
    "RS3.lm <- lm(price ~., data = new_airbnb_data)\n",
    "\n",
    "# run the vif function and calculate vif values\n",
    "vif(RS3.lm)\n",
    "# answer to 2e in the markdown below\n",
    "# SOLUTION ENDS HERE"
   ]
  },
  {
   "cell_type": "markdown",
   "metadata": {},
   "source": [
    "> VIF values of the variable bedrooms is 2.7597457287341"
   ]
  },
  {
   "cell_type": "markdown",
   "metadata": {
    "deletable": false,
    "editable": false,
    "nbgrader": {
     "grade": false,
     "locked": true,
     "solution": false
    }
   },
   "source": [
    "## Q2. Use the *\"direct_marketing.csv\"* provided and answer the following questions on Linear Regression:\n",
    "\n",
    "**Create indicator variables for the 'History' column. Considering the base case as None (i.e., create Low, Medium and High variables with 1 denoting the positive case and 0 the negative) and few additional variables LowSalary, MediumSalary and HighSalary based on the customer history type i.e., MediumSalary = Medium*Salary etc.**\n",
    "\n",
    "**Instruction: The dataset \"direct_marketing.csv\" can be accessed at the path: (\"../resource/asnlib/publicdata/direct_marketing.csv\")**\n"
   ]
  },
  {
   "cell_type": "markdown",
   "metadata": {
    "deletable": false,
    "editable": false,
    "nbgrader": {
     "grade": false,
     "locked": true,
     "solution": false
    }
   },
   "source": [
    "a) Fit a multiple linear regression model using 'AmountSpent' as the response variable and the indicator variables along with their salary variables as the predictors: (6 points)\n",
    "\n",
    "$$AmountSpent = \\beta_0 + \\beta_1Salary + \\beta_2Low + \\beta_3Medium + \\beta_4High + \\beta_5LowSalary + \\beta_6MediumSalary + \\beta_7HighSalary$$"
   ]
  },
  {
   "cell_type": "code",
   "execution_count": 8,
   "metadata": {},
   "outputs": [
    {
     "data": {
      "text/plain": [
       "\n",
       "Call:\n",
       "lm(formula = AmountSpent ~ Salary + History + Salary * History, \n",
       "    data = data)\n",
       "\n",
       "Residuals:\n",
       "    Min      1Q  Median      3Q     Max \n",
       "-214.33  -25.47   -6.46   20.64  352.50 \n",
       "\n",
       "Coefficients:\n",
       "                       Estimate Std. Error t value Pr(>|t|)    \n",
       "(Intercept)           1.9622199  6.3880253   0.307 0.758777    \n",
       "Salary                0.0023641  0.0001071  22.083  < 2e-16 ***\n",
       "HistoryLow           25.4466733  8.9203292   2.853 0.004426 ** \n",
       "HistoryMedium        79.2984388 12.8982169   6.148 1.14e-09 ***\n",
       "HistoryHigh          72.6735221 15.2270169   4.773 2.09e-06 ***\n",
       "Salary:HistoryLow    -0.0021069  0.0001890 -11.150  < 2e-16 ***\n",
       "Salary:HistoryMedium -0.0021153  0.0002182  -9.693  < 2e-16 ***\n",
       "Salary:HistoryHigh   -0.0006408  0.0001926  -3.328 0.000908 ***\n",
       "---\n",
       "Signif. codes:  0 ‘***’ 0.001 ‘**’ 0.01 ‘*’ 0.05 ‘.’ 0.1 ‘ ’ 1\n",
       "\n",
       "Residual standard error: 55.79 on 992 degrees of freedom\n",
       "Multiple R-squared:  0.6654,\tAdjusted R-squared:  0.6631 \n",
       "F-statistic: 281.9 on 7 and 992 DF,  p-value: < 2.2e-16\n"
      ]
     },
     "metadata": {},
     "output_type": "display_data"
    }
   ],
   "source": [
    "# SOLUTION BEGINS HERE\n",
    "data <- read_csv(\"../resource/asnlib/publicdata/direct_marketing.csv\", col_types = list(\n",
    "    Age = col_character(),\n",
    "    Gender = col_character(),\n",
    "    OwnHome = col_character(),\n",
    "    Married = col_character(),\n",
    "    Location = col_character(),\n",
    "    Salary = col_integer(),\n",
    "    Children = col_integer(),\n",
    "    History = col_factor(c(\"None\", \"Low\", \"Medium\", \"High\")),\n",
    "    Catalogs = col_integer(),\n",
    "    AmountSpent = col_double()))\n",
    "attach(data)\n",
    "                \n",
    "Model = lm(AmountSpent ~ Salary + History + Salary*History, data=data)\n",
    "summary(Model)\n",
    "# SOLUTION ENDS HERE"
   ]
  },
  {
   "cell_type": "markdown",
   "metadata": {
    "deletable": false,
    "editable": false,
    "nbgrader": {
     "grade": false,
     "locked": true,
     "solution": false
    }
   },
   "source": [
    "b) What is the amount spent by a customer for each historic type (None, Low, Medium, and High) provided their salary is $10,000 based on the model constructed in part a? (6 points)\n",
    "    \n",
    "    \n",
    "    \n",
    "    \n",
    "    "
   ]
  },
  {
   "cell_type": "code",
   "execution_count": 9,
   "metadata": {},
   "outputs": [
    {
     "name": "stdout",
     "output_type": "stream",
     "text": [
      "[1] \"None type:\"\n"
     ]
    },
    {
     "data": {
      "text/html": [
       "<strong>1:</strong> 25.603473247411"
      ],
      "text/latex": [
       "\\textbf{1:} 25.603473247411"
      ],
      "text/markdown": [
       "**1:** 25.603473247411"
      ],
      "text/plain": [
       "       1 \n",
       "25.60347 "
      ]
     },
     "metadata": {},
     "output_type": "display_data"
    },
    {
     "name": "stdout",
     "output_type": "stream",
     "text": [
      "[1] \"Low type:\"\n"
     ]
    },
    {
     "data": {
      "text/html": [
       "<strong>1:</strong> 29.9815735873686"
      ],
      "text/latex": [
       "\\textbf{1:} 29.9815735873686"
      ],
      "text/markdown": [
       "**1:** 29.9815735873686"
      ],
      "text/plain": [
       "       1 \n",
       "29.98157 "
      ]
     },
     "metadata": {},
     "output_type": "display_data"
    },
    {
     "name": "stdout",
     "output_type": "stream",
     "text": [
      "[1] \"Medium type:\"\n"
     ]
    },
    {
     "data": {
      "text/html": [
       "<strong>1:</strong> 83.749086769995"
      ],
      "text/latex": [
       "\\textbf{1:} 83.749086769995"
      ],
      "text/markdown": [
       "**1:** 83.749086769995"
      ],
      "text/plain": [
       "       1 \n",
       "83.74909 "
      ]
     },
     "metadata": {},
     "output_type": "display_data"
    },
    {
     "name": "stdout",
     "output_type": "stream",
     "text": [
      "[1] \"High type:\"\n"
     ]
    },
    {
     "data": {
      "text/html": [
       "<strong>1:</strong> 91.8687402713128"
      ],
      "text/latex": [
       "\\textbf{1:} 91.8687402713128"
      ],
      "text/markdown": [
       "**1:** 91.8687402713128"
      ],
      "text/plain": [
       "       1 \n",
       "91.86874 "
      ]
     },
     "metadata": {},
     "output_type": "display_data"
    }
   ],
   "source": [
    "# SOLUTION BEGINS HERE\n",
    "print(\"None type:\")\n",
    "predict(Model, data.frame(History='None', Salary = 10000))\n",
    "print(\"Low type:\")\n",
    "predict(Model, data.frame(History='Low', Salary = 10000))\n",
    "print(\"Medium type:\")\n",
    "predict(Model, data.frame(History='Medium', Salary = 10000))\n",
    "print(\"High type:\")\n",
    "predict(Model, data.frame(History='High', Salary = 10000))\n",
    "# SOLUTION ENDS HERE"
   ]
  },
  {
   "cell_type": "markdown",
   "metadata": {
    "deletable": false,
    "editable": false,
    "nbgrader": {
     "grade": false,
     "locked": true,
     "solution": false
    }
   },
   "source": [
    "## Q3. Use the *\"airbnb_data.csv\"* provided and answer the following questions (part c and part d) on Linear Regression.  DO NOT remove outliers from the dataset:  Perform Log transformation for the variables price and overall_satisfaction, make necessary transformations suggested in the class.\n",
    "\n",
    "**Instruction: The dataset \"airbnb_data.csv\" can be accessed at the path: (\"../resource/asnlib/publicdata/airbnb_data.csv\")**"
   ]
  },
  {
   "cell_type": "markdown",
   "metadata": {
    "deletable": false,
    "editable": false,
    "nbgrader": {
     "grade": false,
     "locked": true,
     "solution": false
    }
   },
   "source": [
    "a) Fit all four models i.e., linear-linear, linear-log, log-linear and log-log regression models using price as the response variable and overall_satisfaction as the predictor.  (Note: Because overall_satisfaction contains ‘0’ values, you will need to use log(x+1) transformations instead of log(x) transformations) (6 points)"
   ]
  },
  {
   "cell_type": "code",
   "execution_count": 10,
   "metadata": {},
   "outputs": [
    {
     "name": "stderr",
     "output_type": "stream",
     "text": [
      "Parsed with column specification:\n",
      "cols(\n",
      "  room_id = col_integer(),\n",
      "  survey_id = col_integer(),\n",
      "  host_id = col_integer(),\n",
      "  room_type = col_character(),\n",
      "  city = col_character(),\n",
      "  reviews = col_integer(),\n",
      "  overall_satisfaction = col_double(),\n",
      "  accommodates = col_integer(),\n",
      "  bedrooms = col_integer(),\n",
      "  price = col_integer()\n",
      ")\n",
      "The following objects are masked from airbnb_data (pos = 6):\n",
      "\n",
      "    accommodates, bedrooms, overall_satisfaction, price, reviews,\n",
      "    room_type\n",
      "\n"
     ]
    }
   ],
   "source": [
    "# SOLUTION BEGINS HERE\n",
    "airbnb_data = read_csv(\"../resource/asnlib/publicdata/airbnb_data.csv\")\n",
    "# keep = c(4,6,7,8,9,10)\n",
    "# airbnb_data = airbnb_data[keep]\n",
    "attach(airbnb_data)\n",
    "overall_satisfaction_log <- log(overall_satisfaction + 1)\n",
    "linear_linear <- lm(price ~ overall_satisfaction, data = airbnb_data)\n",
    "linear_log <- lm(price ~ overall_satisfaction_log, data = airbnb_data)\n",
    "log_linear <- lm(log(price) ~ overall_satisfaction, data = airbnb_data)\n",
    "log_log <- lm(log(price) ~ overall_satisfaction_log, data = airbnb_data)\n",
    "# SOLUTION ENDS HERE"
   ]
  },
  {
   "cell_type": "markdown",
   "metadata": {
    "deletable": false,
    "editable": false,
    "nbgrader": {
     "grade": false,
     "locked": true,
     "solution": false
    }
   },
   "source": [
    "b) Which of the four models has the best  R2R2 ?\n",
    "\n",
    "Discuss how these transformations impact model fit. Does log transforming the variable improve, degrade, or have an uncertain impact on model performance?\n",
    "\n",
    "Compare the models and their performance with respect to R squared. Are these R squared values generally good, bad, or uncertain across the four models as a general measure of fit? (2 points)"
   ]
  },
  {
   "cell_type": "code",
   "execution_count": 11,
   "metadata": {},
   "outputs": [
    {
     "name": "stdout",
     "output_type": "stream",
     "text": [
      "[1] \"linear-linear model R Squared:\"\n"
     ]
    },
    {
     "data": {
      "text/html": [
       "0.0201842827776218"
      ],
      "text/latex": [
       "0.0201842827776218"
      ],
      "text/markdown": [
       "0.0201842827776218"
      ],
      "text/plain": [
       "[1] 0.02018428"
      ]
     },
     "metadata": {},
     "output_type": "display_data"
    },
    {
     "name": "stdout",
     "output_type": "stream",
     "text": [
      "[1] \"linear-log model R Squared:\"\n"
     ]
    },
    {
     "data": {
      "text/html": [
       "0.020887386741353"
      ],
      "text/latex": [
       "0.020887386741353"
      ],
      "text/markdown": [
       "0.020887386741353"
      ],
      "text/plain": [
       "[1] 0.02088739"
      ]
     },
     "metadata": {},
     "output_type": "display_data"
    },
    {
     "name": "stdout",
     "output_type": "stream",
     "text": [
      "[1] \"log-linear model R Squared:\"\n"
     ]
    },
    {
     "data": {
      "text/html": [
       "0.0177702713103193"
      ],
      "text/latex": [
       "0.0177702713103193"
      ],
      "text/markdown": [
       "0.0177702713103193"
      ],
      "text/plain": [
       "[1] 0.01777027"
      ]
     },
     "metadata": {},
     "output_type": "display_data"
    },
    {
     "name": "stdout",
     "output_type": "stream",
     "text": [
      "[1] \"log-log model R Squared:\"\n"
     ]
    },
    {
     "data": {
      "text/html": [
       "0.019338613785989"
      ],
      "text/latex": [
       "0.019338613785989"
      ],
      "text/markdown": [
       "0.019338613785989"
      ],
      "text/plain": [
       "[1] 0.01933861"
      ]
     },
     "metadata": {},
     "output_type": "display_data"
    }
   ],
   "source": [
    "# SOLUTION BEGINS HERE\n",
    "print(\"linear-linear model R Squared:\")\n",
    "summary(linear_linear)$r.squared\n",
    "print(\"linear-log model R Squared:\")\n",
    "summary(linear_log)$r.squared\n",
    "print(\"log-linear model R Squared:\")\n",
    "summary(log_linear)$r.squared\n",
    "print(\"log-log model R Squared:\")\n",
    "summary(log_log)$r.squared\n",
    "# Answer to question 3b is the markdown below\n",
    "# SOLUTION ENDS HERE"
   ]
  },
  {
   "cell_type": "markdown",
   "metadata": {},
   "source": [
    "> **ANSWER TO QUESTION 3b:**\n",
    "> From the result of R<sup>2</sup> above, we can tell that \"linear-log\" model has the highest R<sup>2</sup> result. However, since all the R<sup>2</sup> value of all 4 models are too low, we can say that the independent variable (overall satisfaction) is not explaining much in the variation of dependent variable (price). R<sup>2</sup> values generally uncertain across the four models as a general measure of fit.\n"
   ]
  },
  {
   "cell_type": "markdown",
   "metadata": {
    "deletable": false,
    "editable": false,
    "nbgrader": {
     "grade": false,
     "locked": true,
     "solution": false
    }
   },
   "source": [
    "## Q4. The attached \"*titanic_data.csv\"* file was obtained from the following source: http://math.ucdenver.edu/RTutorial/\n",
    "\n",
    "**It has been cleaned to remove all rows which contain missing values. We will perform a logistic regression on this cleaned dataset.**\n",
    "\n",
    "**The dataset contains the following columns:**\n",
    "\n",
    "\n",
    "|Column Name|Description|Data Type|\n",
    "|------|------|------|\n",
    "|Name |Passenger Name|factor|\n",
    "|PClass|Passenger Class (1st, 2nd, 3rd)|factor|\n",
    "|Age|Passenger Age|number|\n",
    "|Sex|Passenger Sex - female, male|factor|\n",
    "|Survived|1 if passenger survived, 0 if not|number|\n",
    "\n",
    "**After converting the survived variable to be a factor with two levels, 0 and 1, perform a logistic regression on the dataset using 'survived' as the response and 'Sex' as the explanatory variable.**\n",
    "\n",
    "**Instruction: The file \"titanic_data.csv\" can be accessed at the path: (\"../resource/asnlib/publicdata/titanic_data.csv\")**"
   ]
  },
  {
   "cell_type": "markdown",
   "metadata": {
    "deletable": false,
    "editable": false,
    "nbgrader": {
     "grade": false,
     "locked": true,
     "solution": false
    }
   },
   "source": [
    "a) Display the model summary. What does the value of the intecept coefficient represent in this model? (3 points)\n"
   ]
  },
  {
   "cell_type": "code",
   "execution_count": 12,
   "metadata": {},
   "outputs": [
    {
     "name": "stderr",
     "output_type": "stream",
     "text": [
      "Parsed with column specification:\n",
      "cols(\n",
      "  Name = col_character(),\n",
      "  PClass = col_character(),\n",
      "  Age = col_double(),\n",
      "  Sex = col_character(),\n",
      "  Survived = col_integer()\n",
      ")\n",
      "The following object is masked from data:\n",
      "\n",
      "    Age\n",
      "\n"
     ]
    },
    {
     "data": {
      "text/plain": [
       "\n",
       "Call:\n",
       "glm(formula = Survived ~ Sex, family = \"binomial\", data = titanic_data)\n",
       "\n",
       "Deviance Residuals: \n",
       "    Min       1Q   Median       3Q      Max  \n",
       "-1.6735  -0.6776  -0.6776   0.7524   1.7800  \n",
       "\n",
       "Coefficients:\n",
       "            Estimate Std. Error z value Pr(>|z|)    \n",
       "(Intercept)   1.1172     0.1367   8.171 3.05e-16 ***\n",
       "Sexmale      -2.4718     0.1783 -13.861  < 2e-16 ***\n",
       "---\n",
       "Signif. codes:  0 ‘***’ 0.001 ‘**’ 0.01 ‘*’ 0.05 ‘.’ 0.1 ‘ ’ 1\n",
       "\n",
       "(Dispersion parameter for binomial family taken to be 1)\n",
       "\n",
       "    Null deviance: 1025.57  on 755  degrees of freedom\n",
       "Residual deviance:  796.64  on 754  degrees of freedom\n",
       "AIC: 800.64\n",
       "\n",
       "Number of Fisher Scoring iterations: 4\n"
      ]
     },
     "metadata": {},
     "output_type": "display_data"
    }
   ],
   "source": [
    "# SOLUTION BEGINS HERE\n",
    "titanic_data <- read_csv(\"../resource/asnlib/publicdata/titanic_data.csv\")\n",
    "attach(titanic_data)\n",
    "titanic_data$Survived <- as.factor(titanic_data$Survived)\n",
    "titanic_data$Sex <- as.factor(titanic_data$Sex)\n",
    "\n",
    "Model.lm = glm(Survived ~ Sex, data = titanic_data, family = \"binomial\")\n",
    "summary(Model.lm)\n",
    "# SOLUTION ENDS HERE"
   ]
  },
  {
   "cell_type": "code",
   "execution_count": 20,
   "metadata": {},
   "outputs": [
    {
     "data": {
      "text/html": [
       "<table>\n",
       "<caption>A tibble: 6 × 7</caption>\n",
       "<thead>\n",
       "\t<tr><th scope=col>Name</th><th scope=col>PClass</th><th scope=col>Age</th><th scope=col>Sex</th><th scope=col>Survived</th><th scope=col>first_class</th><th scope=col>second_class</th></tr>\n",
       "\t<tr><th scope=col>&lt;chr&gt;</th><th scope=col>&lt;chr&gt;</th><th scope=col>&lt;dbl&gt;</th><th scope=col>&lt;fct&gt;</th><th scope=col>&lt;fct&gt;</th><th scope=col>&lt;dbl&gt;</th><th scope=col>&lt;dbl&gt;</th></tr>\n",
       "</thead>\n",
       "<tbody>\n",
       "\t<tr><td>Allen, Miss Elisabeth Walton                 </td><td>1st</td><td>29.00</td><td>female</td><td>1</td><td>1</td><td>0</td></tr>\n",
       "\t<tr><td>Allison, Miss Helen Loraine                  </td><td>1st</td><td> 2.00</td><td>female</td><td>0</td><td>1</td><td>0</td></tr>\n",
       "\t<tr><td>Allison, Mr Hudson Joshua Creighton          </td><td>1st</td><td>30.00</td><td>male  </td><td>0</td><td>1</td><td>0</td></tr>\n",
       "\t<tr><td>Allison, Mrs Hudson JC (Bessie Waldo Daniels)</td><td>1st</td><td>25.00</td><td>female</td><td>0</td><td>1</td><td>0</td></tr>\n",
       "\t<tr><td>Allison, Master Hudson Trevor                </td><td>1st</td><td> 0.92</td><td>male  </td><td>1</td><td>1</td><td>0</td></tr>\n",
       "\t<tr><td>Anderson, Mr Harry                           </td><td>1st</td><td>47.00</td><td>male  </td><td>1</td><td>1</td><td>0</td></tr>\n",
       "</tbody>\n",
       "</table>\n"
      ],
      "text/latex": [
       "A tibble: 6 × 7\n",
       "\\begin{tabular}{r|lllllll}\n",
       " Name & PClass & Age & Sex & Survived & first\\_class & second\\_class\\\\\n",
       " <chr> & <chr> & <dbl> & <fct> & <fct> & <dbl> & <dbl>\\\\\n",
       "\\hline\n",
       "\t Allen, Miss Elisabeth Walton                  & 1st & 29.00 & female & 1 & 1 & 0\\\\\n",
       "\t Allison, Miss Helen Loraine                   & 1st &  2.00 & female & 0 & 1 & 0\\\\\n",
       "\t Allison, Mr Hudson Joshua Creighton           & 1st & 30.00 & male   & 0 & 1 & 0\\\\\n",
       "\t Allison, Mrs Hudson JC (Bessie Waldo Daniels) & 1st & 25.00 & female & 0 & 1 & 0\\\\\n",
       "\t Allison, Master Hudson Trevor                 & 1st &  0.92 & male   & 1 & 1 & 0\\\\\n",
       "\t Anderson, Mr Harry                            & 1st & 47.00 & male   & 1 & 1 & 0\\\\\n",
       "\\end{tabular}\n"
      ],
      "text/markdown": [
       "\n",
       "A tibble: 6 × 7\n",
       "\n",
       "| Name &lt;chr&gt; | PClass &lt;chr&gt; | Age &lt;dbl&gt; | Sex &lt;fct&gt; | Survived &lt;fct&gt; | first_class &lt;dbl&gt; | second_class &lt;dbl&gt; |\n",
       "|---|---|---|---|---|---|---|\n",
       "| Allen, Miss Elisabeth Walton                  | 1st | 29.00 | female | 1 | 1 | 0 |\n",
       "| Allison, Miss Helen Loraine                   | 1st |  2.00 | female | 0 | 1 | 0 |\n",
       "| Allison, Mr Hudson Joshua Creighton           | 1st | 30.00 | male   | 0 | 1 | 0 |\n",
       "| Allison, Mrs Hudson JC (Bessie Waldo Daniels) | 1st | 25.00 | female | 0 | 1 | 0 |\n",
       "| Allison, Master Hudson Trevor                 | 1st |  0.92 | male   | 1 | 1 | 0 |\n",
       "| Anderson, Mr Harry                            | 1st | 47.00 | male   | 1 | 1 | 0 |\n",
       "\n"
      ],
      "text/plain": [
       "  Name                                          PClass Age   Sex    Survived\n",
       "1 Allen, Miss Elisabeth Walton                  1st    29.00 female 1       \n",
       "2 Allison, Miss Helen Loraine                   1st     2.00 female 0       \n",
       "3 Allison, Mr Hudson Joshua Creighton           1st    30.00 male   0       \n",
       "4 Allison, Mrs Hudson JC (Bessie Waldo Daniels) 1st    25.00 female 0       \n",
       "5 Allison, Master Hudson Trevor                 1st     0.92 male   1       \n",
       "6 Anderson, Mr Harry                            1st    47.00 male   1       \n",
       "  first_class second_class\n",
       "1 1           0           \n",
       "2 1           0           \n",
       "3 1           0           \n",
       "4 1           0           \n",
       "5 1           0           \n",
       "6 1           0           "
      ]
     },
     "metadata": {},
     "output_type": "display_data"
    }
   ],
   "source": [
    "head(titanic_data)"
   ]
  },
  {
   "cell_type": "markdown",
   "metadata": {},
   "source": [
    "> **ANSWER TO QUESTION 4a:**\n",
    "> The value of the intecept coefficient represents the log odds of being survived for a female"
   ]
  },
  {
   "cell_type": "markdown",
   "metadata": {
    "deletable": false,
    "editable": false,
    "nbgrader": {
     "grade": false,
     "locked": true,
     "solution": false
    }
   },
   "source": [
    "b) Determine the probability of survival for females. (3 points)\n",
    "\n"
   ]
  },
  {
   "cell_type": "code",
   "execution_count": 13,
   "metadata": {},
   "outputs": [
    {
     "data": {
      "text/html": [
       "<strong>(Intercept):</strong> 1.11721747649626"
      ],
      "text/latex": [
       "\\textbf{(Intercept):} 1.11721747649626"
      ],
      "text/markdown": [
       "**(Intercept):** 1.11721747649626"
      ],
      "text/plain": [
       "(Intercept) \n",
       "   1.117217 "
      ]
     },
     "metadata": {},
     "output_type": "display_data"
    }
   ],
   "source": [
    "Model.lm$coefficients[1]"
   ]
  },
  {
   "cell_type": "code",
   "execution_count": 14,
   "metadata": {},
   "outputs": [
    {
     "name": "stdout",
     "output_type": "stream",
     "text": [
      "[1] \"The odd is:  3.05633802816021\"\n",
      "[1] \"The probability of survival for female is:  0.753472222221687\"\n"
     ]
    }
   ],
   "source": [
    "# SOLUTION BEGINS HERE\n",
    "# The intercept b0 = 1.1172 is the log odds for female (base case)\n",
    "odd <- exp(Model.lm$coefficients[1])\n",
    "print(paste(\"The odd is: \", odd))\n",
    "p <- odd/(1+odd)\n",
    "print(paste(\"The probability of survival for female is: \", p))\n",
    "# SOLUTION ENDS HERE"
   ]
  },
  {
   "cell_type": "markdown",
   "metadata": {
    "deletable": false,
    "editable": false,
    "nbgrader": {
     "grade": false,
     "locked": true,
     "solution": false
    }
   },
   "source": [
    "c) Determine the probability of survival for males. (3 points)\n"
   ]
  },
  {
   "cell_type": "code",
   "execution_count": 15,
   "metadata": {},
   "outputs": [
    {
     "data": {
      "text/html": [
       "<strong>Sexmale:</strong> -2.4717631393012"
      ],
      "text/latex": [
       "\\textbf{Sexmale:} -2.4717631393012"
      ],
      "text/markdown": [
       "**Sexmale:** -2.4717631393012"
      ],
      "text/plain": [
       "  Sexmale \n",
       "-2.471763 "
      ]
     },
     "metadata": {},
     "output_type": "display_data"
    }
   ],
   "source": [
    "Model.lm$coefficients[2]"
   ]
  },
  {
   "cell_type": "code",
   "execution_count": 16,
   "metadata": {},
   "outputs": [
    {
     "name": "stdout",
     "output_type": "stream",
     "text": [
      "[1] \"The odd is:  0.258064516129129\"\n",
      "[1] \"The probability of survival for male is:  0.205128205128266\"\n"
     ]
    }
   ],
   "source": [
    "# SOLUTION BEGINS HERE\n",
    "odd <- exp(Model.lm$coefficients[1] + Model.lm$coefficients[2])\n",
    "print(paste(\"The odd is: \", odd))\n",
    "p1 <- odd/(1+odd)\n",
    "print(paste(\"The probability of survival for male is: \", p1))\n",
    "# SOLUTION ENDS HERE"
   ]
  },
  {
   "cell_type": "markdown",
   "metadata": {
    "deletable": false,
    "editable": false,
    "nbgrader": {
     "grade": false,
     "locked": true,
     "solution": false
    }
   },
   "source": [
    "d) Create indicator variables for the variable 'PClass'. Consider PClass='3rd' as the base case (first_class = 1 if PClass is 1st or else 0; second_class = 1 if PClass is 2nd or else 0). \n",
    "\n",
    "Create a logistic regression model with the variable 'Survived' as the response variable and the indicator variables created for 'PClass' as the independent model variables. \n",
    "\n",
    "Using this model, calculate the probability of survival for the passengers in all 3 classes. (7 points)"
   ]
  },
  {
   "cell_type": "code",
   "execution_count": 17,
   "metadata": {},
   "outputs": [
    {
     "data": {
      "text/html": [
       "<table>\n",
       "<caption>A tibble: 6 × 5</caption>\n",
       "<thead>\n",
       "\t<tr><th scope=col>Name</th><th scope=col>PClass</th><th scope=col>Age</th><th scope=col>Sex</th><th scope=col>Survived</th></tr>\n",
       "\t<tr><th scope=col>&lt;chr&gt;</th><th scope=col>&lt;chr&gt;</th><th scope=col>&lt;dbl&gt;</th><th scope=col>&lt;fct&gt;</th><th scope=col>&lt;fct&gt;</th></tr>\n",
       "</thead>\n",
       "<tbody>\n",
       "\t<tr><td>Allen, Miss Elisabeth Walton                 </td><td>1st</td><td>29.00</td><td>female</td><td>1</td></tr>\n",
       "\t<tr><td>Allison, Miss Helen Loraine                  </td><td>1st</td><td> 2.00</td><td>female</td><td>0</td></tr>\n",
       "\t<tr><td>Allison, Mr Hudson Joshua Creighton          </td><td>1st</td><td>30.00</td><td>male  </td><td>0</td></tr>\n",
       "\t<tr><td>Allison, Mrs Hudson JC (Bessie Waldo Daniels)</td><td>1st</td><td>25.00</td><td>female</td><td>0</td></tr>\n",
       "\t<tr><td>Allison, Master Hudson Trevor                </td><td>1st</td><td> 0.92</td><td>male  </td><td>1</td></tr>\n",
       "\t<tr><td>Anderson, Mr Harry                           </td><td>1st</td><td>47.00</td><td>male  </td><td>1</td></tr>\n",
       "</tbody>\n",
       "</table>\n"
      ],
      "text/latex": [
       "A tibble: 6 × 5\n",
       "\\begin{tabular}{r|lllll}\n",
       " Name & PClass & Age & Sex & Survived\\\\\n",
       " <chr> & <chr> & <dbl> & <fct> & <fct>\\\\\n",
       "\\hline\n",
       "\t Allen, Miss Elisabeth Walton                  & 1st & 29.00 & female & 1\\\\\n",
       "\t Allison, Miss Helen Loraine                   & 1st &  2.00 & female & 0\\\\\n",
       "\t Allison, Mr Hudson Joshua Creighton           & 1st & 30.00 & male   & 0\\\\\n",
       "\t Allison, Mrs Hudson JC (Bessie Waldo Daniels) & 1st & 25.00 & female & 0\\\\\n",
       "\t Allison, Master Hudson Trevor                 & 1st &  0.92 & male   & 1\\\\\n",
       "\t Anderson, Mr Harry                            & 1st & 47.00 & male   & 1\\\\\n",
       "\\end{tabular}\n"
      ],
      "text/markdown": [
       "\n",
       "A tibble: 6 × 5\n",
       "\n",
       "| Name &lt;chr&gt; | PClass &lt;chr&gt; | Age &lt;dbl&gt; | Sex &lt;fct&gt; | Survived &lt;fct&gt; |\n",
       "|---|---|---|---|---|\n",
       "| Allen, Miss Elisabeth Walton                  | 1st | 29.00 | female | 1 |\n",
       "| Allison, Miss Helen Loraine                   | 1st |  2.00 | female | 0 |\n",
       "| Allison, Mr Hudson Joshua Creighton           | 1st | 30.00 | male   | 0 |\n",
       "| Allison, Mrs Hudson JC (Bessie Waldo Daniels) | 1st | 25.00 | female | 0 |\n",
       "| Allison, Master Hudson Trevor                 | 1st |  0.92 | male   | 1 |\n",
       "| Anderson, Mr Harry                            | 1st | 47.00 | male   | 1 |\n",
       "\n"
      ],
      "text/plain": [
       "  Name                                          PClass Age   Sex    Survived\n",
       "1 Allen, Miss Elisabeth Walton                  1st    29.00 female 1       \n",
       "2 Allison, Miss Helen Loraine                   1st     2.00 female 0       \n",
       "3 Allison, Mr Hudson Joshua Creighton           1st    30.00 male   0       \n",
       "4 Allison, Mrs Hudson JC (Bessie Waldo Daniels) 1st    25.00 female 0       \n",
       "5 Allison, Master Hudson Trevor                 1st     0.92 male   1       \n",
       "6 Anderson, Mr Harry                            1st    47.00 male   1       "
      ]
     },
     "metadata": {},
     "output_type": "display_data"
    }
   ],
   "source": [
    "head(titanic_data)"
   ]
  },
  {
   "cell_type": "code",
   "execution_count": 18,
   "metadata": {},
   "outputs": [
    {
     "data": {
      "text/plain": [
       "\n",
       "Call:\n",
       "glm(formula = Survived ~ first_class + second_class, family = \"binomial\", \n",
       "    data = titanic_data)\n",
       "\n",
       "Deviance Residuals: \n",
       "    Min       1Q   Median       3Q      Max  \n",
       "-1.3818  -1.0982  -0.7502   0.9860   1.6765  \n",
       "\n",
       "Coefficients:\n",
       "             Estimate Std. Error z value Pr(>|z|)    \n",
       "(Intercept)   -1.1239     0.1303  -8.623  < 2e-16 ***\n",
       "first_class    1.5925     0.1889   8.431  < 2e-16 ***\n",
       "second_class   0.9347     0.1898   4.925 8.45e-07 ***\n",
       "---\n",
       "Signif. codes:  0 ‘***’ 0.001 ‘**’ 0.01 ‘*’ 0.05 ‘.’ 0.1 ‘ ’ 1\n",
       "\n",
       "(Dispersion parameter for binomial family taken to be 1)\n",
       "\n",
       "    Null deviance: 1025.57  on 755  degrees of freedom\n",
       "Residual deviance:  947.55  on 753  degrees of freedom\n",
       "AIC: 953.55\n",
       "\n",
       "Number of Fisher Scoring iterations: 4\n"
      ]
     },
     "metadata": {},
     "output_type": "display_data"
    },
    {
     "name": "stdout",
     "output_type": "stream",
     "text": [
      "[1] \"The odd is:  0.325000000000923\"\n",
      "[1] \"The probability of survival for 3rd class is:  0.24528301886845\"\n",
      "[1] \"The odd is:  1.59770114942528\"\n",
      "[1] \"The probability of survival for 1st class is:  0.61504424778761\"\n",
      "[1] \"The odd is:  0.827586206896552\"\n",
      "[1] \"The probability of survival for 2nd class is:  0.452830188679245\"\n"
     ]
    }
   ],
   "source": [
    "# SOLUTION BEGINS HERE\n",
    "# create indicator variables for the variable \"PClass\"\n",
    "titanic_data$first_class <- ifelse(titanic_data$PClass == '1st',1,0)\n",
    "titanic_data$second_class <- ifelse(titanic_data$PClass == '2nd',1,0)\n",
    "\n",
    "# run logistic regression model\n",
    "new_md = glm(Survived ~ first_class + second_class, data = titanic_data, family = \"binomial\")\n",
    "summary(new_md)\n",
    "\n",
    "# Calculate the probability of survival for the passengers in all 3 classes\n",
    "odd <- exp(new_md$coefficients[1])\n",
    "print(paste(\"The odd is: \", odd))\n",
    "p <- odd/(1+odd)\n",
    "print(paste(\"The probability of survival for 3rd class is: \", p))\n",
    "odd <- exp(new_md$coefficients[1] + new_md$coefficients[2])\n",
    "print(paste(\"The odd is: \", odd))\n",
    "p <- odd/(1+odd)\n",
    "print(paste(\"The probability of survival for 1st class is: \", p))\n",
    "odd <- exp(new_md$coefficients[1] + new_md$coefficients[3])\n",
    "print(paste(\"The odd is: \", odd))\n",
    "p <- odd/(1+odd)\n",
    "print(paste(\"The probability of survival for 2nd class is: \", p))\n",
    "# SOLUTION ENDS HERE"
   ]
  },
  {
   "cell_type": "code",
   "execution_count": 19,
   "metadata": {},
   "outputs": [
    {
     "data": {
      "text/html": [
       "<strong>second_class:</strong> 0.934688097011031"
      ],
      "text/latex": [
       "\\textbf{second\\textbackslash{}\\_class:} 0.934688097011031"
      ],
      "text/markdown": [
       "**second_class:** 0.934688097011031"
      ],
      "text/plain": [
       "second_class \n",
       "   0.9346881 "
      ]
     },
     "metadata": {},
     "output_type": "display_data"
    }
   ],
   "source": [
    "new_md$coefficients[3]"
   ]
  }
 ],
 "metadata": {
  "kernelspec": {
   "display_name": "R 3.5.1",
   "language": "R",
   "name": "ir"
  },
  "language_info": {
   "codemirror_mode": "r",
   "file_extension": ".r",
   "mimetype": "text/x-r-source",
   "name": "R",
   "pygments_lexer": "r",
   "version": "3.5.1"
  }
 },
 "nbformat": 4,
 "nbformat_minor": 2
}
